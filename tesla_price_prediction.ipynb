{
 "cells": [
  {
   "cell_type": "code",
   "execution_count": 45,
   "id": "75d1d9db-f4fb-4c8c-adfc-64e779ffd7d1",
   "metadata": {},
   "outputs": [],
   "source": [
    "import numpy as np\n",
    "import pandas as pd\n",
    "import matplotlib.pyplot as plt\n",
    "import math\n",
    "\n",
    "from sklearn.preprocessing import MinMaxScaler # for scaling the data\n",
    "from tensorflow.keras.models import Sequential # for creating a linear stack of layers for the Neural Network\n",
    "from tensorflow.keras.layers import Dense, Dropout, LSTM\n",
    "from tensorflow.keras.callbacks import ModelCheckpoint, EarlyStopping"
   ]
  },
  {
   "cell_type": "code",
   "execution_count": 46,
   "id": "703b95ee-2579-4675-8a31-32aca59ad440",
   "metadata": {},
   "outputs": [
    {
     "data": {
      "text/html": [
       "<div>\n",
       "<style scoped>\n",
       "    .dataframe tbody tr th:only-of-type {\n",
       "        vertical-align: middle;\n",
       "    }\n",
       "\n",
       "    .dataframe tbody tr th {\n",
       "        vertical-align: top;\n",
       "    }\n",
       "\n",
       "    .dataframe thead th {\n",
       "        text-align: right;\n",
       "    }\n",
       "</style>\n",
       "<table border=\"1\" class=\"dataframe\">\n",
       "  <thead>\n",
       "    <tr style=\"text-align: right;\">\n",
       "      <th></th>\n",
       "      <th>Date</th>\n",
       "      <th>Open</th>\n",
       "      <th>High</th>\n",
       "      <th>Low</th>\n",
       "      <th>Close</th>\n",
       "      <th>Adj Close</th>\n",
       "      <th>Volume</th>\n",
       "    </tr>\n",
       "  </thead>\n",
       "  <tbody>\n",
       "    <tr>\n",
       "      <th>0</th>\n",
       "      <td>2010-06-29</td>\n",
       "      <td>19.000000</td>\n",
       "      <td>25.00</td>\n",
       "      <td>17.540001</td>\n",
       "      <td>23.889999</td>\n",
       "      <td>23.889999</td>\n",
       "      <td>18766300</td>\n",
       "    </tr>\n",
       "    <tr>\n",
       "      <th>1</th>\n",
       "      <td>2010-06-30</td>\n",
       "      <td>25.790001</td>\n",
       "      <td>30.42</td>\n",
       "      <td>23.299999</td>\n",
       "      <td>23.830000</td>\n",
       "      <td>23.830000</td>\n",
       "      <td>17187100</td>\n",
       "    </tr>\n",
       "    <tr>\n",
       "      <th>2</th>\n",
       "      <td>2010-07-01</td>\n",
       "      <td>25.000000</td>\n",
       "      <td>25.92</td>\n",
       "      <td>20.270000</td>\n",
       "      <td>21.959999</td>\n",
       "      <td>21.959999</td>\n",
       "      <td>8218800</td>\n",
       "    </tr>\n",
       "  </tbody>\n",
       "</table>\n",
       "</div>"
      ],
      "text/plain": [
       "         Date       Open   High        Low      Close  Adj Close    Volume\n",
       "0  2010-06-29  19.000000  25.00  17.540001  23.889999  23.889999  18766300\n",
       "1  2010-06-30  25.790001  30.42  23.299999  23.830000  23.830000  17187100\n",
       "2  2010-07-01  25.000000  25.92  20.270000  21.959999  21.959999   8218800"
      ]
     },
     "execution_count": 46,
     "metadata": {},
     "output_type": "execute_result"
    }
   ],
   "source": [
    "dataset = pd.read_csv(\"./TSLA.csv\")\n",
    "dataset[0:3]"
   ]
  },
  {
   "cell_type": "code",
   "execution_count": 47,
   "id": "c27adc0f-c479-4142-821c-8cb7b3ecd6f7",
   "metadata": {},
   "outputs": [
    {
     "name": "stdout",
     "output_type": "stream",
     "text": [
      "1933\n"
     ]
    }
   ],
   "source": [
    "# spliting data to training and test sets\n",
    "training_data_len = math.ceil(len(dataset) * .8)\n",
    "print(training_data_len)\n",
    "train_data=dataset[0:training_data_len]"
   ]
  },
  {
   "cell_type": "code",
   "execution_count": 72,
   "id": "1a722b27-4048-4026-bf06-d555a2c5f045",
   "metadata": {},
   "outputs": [
    {
     "name": "stdout",
     "output_type": "stream",
     "text": [
      "[[0.00434948]\n",
      " [0.01467569]\n",
      " [0.01347426]\n",
      " ...\n",
      " [0.93723668]\n",
      " [0.94876435]\n",
      " [1.        ]]\n"
     ]
    }
   ],
   "source": [
    "# scaling the training data\n",
    "sc = MinMaxScaler(feature_range=(0,1))\n",
    "# creating a new dataframe with only 'Open column and scaling it\n",
    "scaled_data = sc.fit_transform(dataset['Open'].values.reshape(-1,1))\n",
    "print(scaled_data)"
   ]
  },
  {
   "cell_type": "code",
   "execution_count": 73,
   "id": "68631962-fb6d-4fbd-969d-c2dc8a13e4e7",
   "metadata": {},
   "outputs": [
    {
     "name": "stdout",
     "output_type": "stream",
     "text": [
      "[array([0.00434948, 0.01467569, 0.01347426, 0.01043267, 0.00587028,\n",
      "       0.00039541, 0.        , 0.00218995, 0.00275265, 0.001901  ,\n",
      "       0.00273744, 0.00577903, 0.00693484, 0.00795377, 0.00868375,\n",
      "       0.006874  , 0.00663068, 0.00768003, 0.00815147, 0.0072542 ,\n",
      "       0.00670671, 0.00704129, 0.00617444, 0.00663068, 0.00739107,\n",
      "       0.00883583, 0.00821231, 0.00602236, 0.0057182 , 0.005338  ,\n",
      "       0.00387804, 0.00252452, 0.00310243, 0.00351304, 0.00428865,\n",
      "       0.00524675, 0.00364992, 0.0038172 , 0.00448635, 0.00472968,\n",
      "       0.00459281, 0.00570299, 0.00549008, 0.00541404, 0.00535321,\n",
      "       0.00529238, 0.00643297, 0.00719337, 0.00679797, 0.006874  ,\n",
      "       0.00739107, 0.00701088, 0.00722379, 0.00669151, 0.00736066,\n",
      "       0.00913999, 0.00742149, 0.00688921, 0.00722379, 0.00719337,\n",
      "       0.00570299, 0.00579424, 0.0064786 , 0.00745191, 0.00768003,\n",
      "       0.00891187, 0.00691963, 0.00652422, 0.00761919, 0.00748232,\n",
      "       0.00673713, 0.00652422, 0.00653943, 0.00617444, 0.00684359,\n",
      "       0.00739107, 0.00722379, 0.00666109, 0.00617444, 0.00611361,\n",
      "       0.00679797, 0.00690442, 0.00729983, 0.00708691, 0.00777127,\n",
      "       0.00798418, 0.00760398, 0.00882063, 0.00842522, 0.0078169 ,\n",
      "       0.00982435, 0.01327656, 0.01271386, 0.01347426, 0.01268345,\n",
      "       0.01894913, 0.01841685, 0.02141282, 0.02259904, 0.02138241])]\n",
      "[0.02209718034173593]\n",
      "\n",
      "(2316, 100)\n",
      "(2316,)\n"
     ]
    }
   ],
   "source": [
    "prediction_days = 100\n",
    "x_train = [] # independent training features (input)\n",
    "y_train = [] # target variables (benchmark)\n",
    "\n",
    "for i in range(prediction_days, len(scaled_data)):\n",
    "    x_train.append(scaled_data[i-prediction_days:i, 0])\n",
    "    y_train.append(scaled_data[i, 0])\n",
    "    if i <= prediction_days:\n",
    "        print(x_train)\n",
    "        print(y_train)\n",
    "        print()\n",
    "# converting to numpy array\n",
    "x_train, y_train = np.array(x_train), np.array(y_train)\n",
    "\n",
    "# getting the number of rows and columns in the sets\n",
    "print(x_train.shape)\n",
    "print(y_train.shape)"
   ]
  },
  {
   "cell_type": "code",
   "execution_count": 74,
   "id": "294999c4-ca45-4dc6-a521-df462343faf1",
   "metadata": {},
   "outputs": [
    {
     "name": "stdout",
     "output_type": "stream",
     "text": [
      "(2316, 100, 1)\n"
     ]
    }
   ],
   "source": [
    "# reshaping the data (number of samples, number of timesteps, number of features)\n",
    "x_train = np.reshape(x_train, (x_train.shape[0], x_train.shape[1], 1))\n",
    "print(x_train.shape)"
   ]
  },
  {
   "cell_type": "code",
   "execution_count": 75,
   "id": "1275c1a0-cb50-4856-a6c3-4825fa0f1b7b",
   "metadata": {},
   "outputs": [],
   "source": [
    "# building the LSTM model\n",
    "model = Sequential()\n",
    "# 50 neurons, will use another LSTM layer, number of timesteps, number of features\n",
    "model.add(LSTM(units=50, return_sequences=True, input_shape=(x_train.shape[1], 1)))\n",
    "model.add(Dropout(0.2))\n",
    "\n",
    "model.add(LSTM(units=50, return_sequences=True))\n",
    "model.add(Dropout(0.2))\n",
    "\n",
    "model.add(LSTM(units=50, return_sequences=True))\n",
    "model.add(Dropout(0.2))\n",
    "\n",
    "model.add(LSTM(units=50))\n",
    "model.add(Dropout(0.2))\n",
    "\n",
    "model.add(Dense(units=1))"
   ]
  },
  {
   "cell_type": "code",
   "execution_count": 76,
   "id": "a568d61d-23bc-4e53-817d-a9e0ad8c71c5",
   "metadata": {},
   "outputs": [
    {
     "name": "stdout",
     "output_type": "stream",
     "text": [
      "Model: \"sequential_5\"\n",
      "_________________________________________________________________\n",
      " Layer (type)                Output Shape              Param #   \n",
      "=================================================================\n",
      " lstm_20 (LSTM)              (None, 100, 50)           10400     \n",
      "                                                                 \n",
      " dropout_20 (Dropout)        (None, 100, 50)           0         \n",
      "                                                                 \n",
      " lstm_21 (LSTM)              (None, 100, 50)           20200     \n",
      "                                                                 \n",
      " dropout_21 (Dropout)        (None, 100, 50)           0         \n",
      "                                                                 \n",
      " lstm_22 (LSTM)              (None, 100, 50)           20200     \n",
      "                                                                 \n",
      " dropout_22 (Dropout)        (None, 100, 50)           0         \n",
      "                                                                 \n",
      " lstm_23 (LSTM)              (None, 50)                20200     \n",
      "                                                                 \n",
      " dropout_23 (Dropout)        (None, 50)                0         \n",
      "                                                                 \n",
      " dense_5 (Dense)             (None, 1)                 51        \n",
      "                                                                 \n",
      "=================================================================\n",
      "Total params: 71,051\n",
      "Trainable params: 71,051\n",
      "Non-trainable params: 0\n",
      "_________________________________________________________________\n"
     ]
    }
   ],
   "source": [
    "model.summary()\n",
    "# compiling the model\n",
    "model.compile(optimizer='adam', loss='mean_squared_error')"
   ]
  },
  {
   "cell_type": "code",
   "execution_count": 77,
   "id": "c22acdad-6161-4cca-8b65-f1cb1a279216",
   "metadata": {},
   "outputs": [
    {
     "name": "stdout",
     "output_type": "stream",
     "text": [
      "Epoch 1/20\n",
      "73/73 [==============================] - 8s 80ms/step - loss: 0.0091\n",
      "Epoch 2/20\n",
      "73/73 [==============================] - 6s 79ms/step - loss: 0.0024\n",
      "Epoch 3/20\n",
      "73/73 [==============================] - 6s 83ms/step - loss: 0.0022\n",
      "Epoch 4/20\n",
      "73/73 [==============================] - 5s 74ms/step - loss: 0.0018\n",
      "Epoch 5/20\n",
      "73/73 [==============================] - 5s 74ms/step - loss: 0.0018\n",
      "Epoch 6/20\n",
      "73/73 [==============================] - 6s 78ms/step - loss: 0.0017\n",
      "Epoch 7/20\n",
      "73/73 [==============================] - 6s 76ms/step - loss: 0.0020\n",
      "Epoch 8/20\n",
      "73/73 [==============================] - 6s 79ms/step - loss: 0.0015\n",
      "Epoch 9/20\n",
      "73/73 [==============================] - 5s 74ms/step - loss: 0.0015\n",
      "Epoch 10/20\n",
      "73/73 [==============================] - 5s 75ms/step - loss: 0.0013\n",
      "Epoch 11/20\n",
      "73/73 [==============================] - 6s 80ms/step - loss: 0.0013\n",
      "Epoch 12/20\n",
      "73/73 [==============================] - 6s 79ms/step - loss: 0.0012\n",
      "Epoch 13/20\n",
      "73/73 [==============================] - 5s 74ms/step - loss: 0.0012\n",
      "Epoch 14/20\n",
      "73/73 [==============================] - 6s 77ms/step - loss: 0.0011\n",
      "Epoch 15/20\n",
      "73/73 [==============================] - 5s 74ms/step - loss: 0.0012\n",
      "Epoch 16/20\n",
      "73/73 [==============================] - 6s 77ms/step - loss: 0.0012\n",
      "Epoch 17/20\n",
      "73/73 [==============================] - 6s 77ms/step - loss: 0.0010\n",
      "Epoch 18/20\n",
      "73/73 [==============================] - 6s 79ms/step - loss: 0.0011\n",
      "Epoch 19/20\n",
      "73/73 [==============================] - 6s 77ms/step - loss: 9.4977e-04\n",
      "Epoch 20/20\n",
      "73/73 [==============================] - 6s 78ms/step - loss: 9.2472e-04\n"
     ]
    },
    {
     "data": {
      "text/plain": [
       "<keras.callbacks.History at 0x7fd90f95d600>"
      ]
     },
     "execution_count": 77,
     "metadata": {},
     "output_type": "execute_result"
    }
   ],
   "source": [
    "model.fit(x_train, y_train, epochs=20, batch_size = 32)"
   ]
  },
  {
   "cell_type": "code",
   "execution_count": 102,
   "id": "9d7fe897-1995-40d9-b1a4-a74d8310d2f5",
   "metadata": {},
   "outputs": [
    {
     "name": "stdout",
     "output_type": "stream",
     "text": [
      "(483, 100, 1)\n"
     ]
    }
   ],
   "source": [
    "# creating testing data set\n",
    "test_data = scaled_data[training_data_len - prediction_days: , :]\n",
    "# creating the data sets x_test and y_test\n",
    "x_test = []\n",
    "y_test = dataset.values[training_data_len:, 1] # all of the values for the model to predict (test values)\n",
    "y_test = np.reshape(y_test, (y_test.shape[0], 1))\n",
    "\n",
    "for i in range(prediction_days, len(test_data)):\n",
    "    x_test.append(test_data[i-prediction_days:i, 0])\n",
    "# converting to numpy array for LSTM\n",
    "x_test = np.array(x_test)\n",
    "# reshaping the data\n",
    "x_test = np.reshape(x_test, (x_test.shape[0], x_test.shape[1], 1))\n",
    "\n",
    "print(x_test.shape)\n",
    "print(y_test.shape)"
   ]
  },
  {
   "cell_type": "code",
   "execution_count": 99,
   "id": "e99f3fc5-03a8-40a4-972f-5aff3fa9cfb4",
   "metadata": {},
   "outputs": [
    {
     "name": "stdout",
     "output_type": "stream",
     "text": [
      "16/16 [==============================] - 1s 48ms/step\n"
     ]
    }
   ],
   "source": [
    "# getting the models predicted price values\n",
    "predicted_prices = model.predict(x_test)\n",
    "# get the real (unscaled) values\n",
    "predicted_prices = sc.inverse_transform(predicted_prices)"
   ]
  },
  {
   "cell_type": "code",
   "execution_count": 108,
   "id": "1e892ca1-78c9-4778-92eb-4b3424facf7e",
   "metadata": {},
   "outputs": [
    {
     "data": {
      "text/plain": [
       "25.679100576929365"
      ]
     },
     "execution_count": 108,
     "metadata": {},
     "output_type": "execute_result"
    }
   ],
   "source": [
    "# getting the root mean squared error (RMSE) for evaluation of the model\n",
    "rmse = np.sqrt(np.mean(((predicted_prices- y_test) ** 2)))\n",
    "rmse"
   ]
  },
  {
   "cell_type": "code",
   "execution_count": 126,
   "id": "b30c74a5-f2d9-4555-9f33-b89df3a817d6",
   "metadata": {},
   "outputs": [
    {
     "data": {
      "image/png": "[encoded data removed]",
      "text/plain": [
       "<Figure size 1152x576 with 1 Axes>"
      ]
     },
     "metadata": {
      "needs_background": "light"
     },
     "output_type": "display_data"
    }
   ],
   "source": [
    "# removing the pandas warning on copy of a slice which is immaterial in this case\n",
    "pd.options.mode.chained_assignment = None # default='warn'\n",
    "# plotting the data\n",
    "train = dataset[:training_data_len]\n",
    "valid = dataset[training_data_len:]\n",
    "valid['Predictions'] = predicted_prices\n",
    "# visualizing the data\n",
    "plt.figure(figsize=(16, 8))\n",
    "plt.title(f\"TESLA stock price Forcast LSTM model\")\n",
    "plt.xlabel(\"Day\", fontsize=12)\n",
    "plt.ylabel(f\"Open Price USD ($)\", fontsize=12)\n",
    "\n",
    "\n",
    "plt.plot(train['Open'], color='black', label=f\"train\")\n",
    "plt.plot(valid['Open'], color='green', label=f\"validation\")\n",
    "plt.plot(valid['Predictions'], color='red', label=f\"predictions\")\n",
    "\n",
    "plt.legend()\n",
    "plt.show()"
   ]
  },
  {
   "cell_type": "code",
   "execution_count": 125,
   "id": "8c80d617-a362-4f04-8037-373f2ba97d41",
   "metadata": {},
   "outputs": [
    {
     "data": {
      "text/html": [
       "<div>\n",
       "<style scoped>\n",
       "    .dataframe tbody tr th:only-of-type {\n",
       "        vertical-align: middle;\n",
       "    }\n",
       "\n",
       "    .dataframe tbody tr th {\n",
       "        vertical-align: top;\n",
       "    }\n",
       "\n",
       "    .dataframe thead th {\n",
       "        text-align: right;\n",
       "    }\n",
       "</style>\n",
       "<table border=\"1\" class=\"dataframe\">\n",
       "  <thead>\n",
       "    <tr style=\"text-align: right;\">\n",
       "      <th></th>\n",
       "      <th>Open</th>\n",
       "      <th>Predictions</th>\n",
       "    </tr>\n",
       "  </thead>\n",
       "  <tbody>\n",
       "    <tr>\n",
       "      <th>1933</th>\n",
       "      <td>332.390015</td>\n",
       "      <td>335.445618</td>\n",
       "    </tr>\n",
       "    <tr>\n",
       "      <th>1934</th>\n",
       "      <td>333.750000</td>\n",
       "      <td>335.767242</td>\n",
       "    </tr>\n",
       "    <tr>\n",
       "      <th>1935</th>\n",
       "      <td>325.440002</td>\n",
       "      <td>333.944489</td>\n",
       "    </tr>\n",
       "    <tr>\n",
       "      <th>1936</th>\n",
       "      <td>332.859985</td>\n",
       "      <td>330.407074</td>\n",
       "    </tr>\n",
       "    <tr>\n",
       "      <th>1937</th>\n",
       "      <td>324.100006</td>\n",
       "      <td>326.038605</td>\n",
       "    </tr>\n",
       "    <tr>\n",
       "      <th>...</th>\n",
       "      <td>...</td>\n",
       "      <td>...</td>\n",
       "    </tr>\n",
       "    <tr>\n",
       "      <th>2411</th>\n",
       "      <td>568.489990</td>\n",
       "      <td>541.077454</td>\n",
       "    </tr>\n",
       "    <tr>\n",
       "      <th>2412</th>\n",
       "      <td>575.690002</td>\n",
       "      <td>548.015442</td>\n",
       "    </tr>\n",
       "    <tr>\n",
       "      <th>2413</th>\n",
       "      <td>632.419983</td>\n",
       "      <td>553.837524</td>\n",
       "    </tr>\n",
       "    <tr>\n",
       "      <th>2414</th>\n",
       "      <td>640.000000</td>\n",
       "      <td>561.934143</td>\n",
       "    </tr>\n",
       "    <tr>\n",
       "      <th>2415</th>\n",
       "      <td>673.690002</td>\n",
       "      <td>574.576416</td>\n",
       "    </tr>\n",
       "  </tbody>\n",
       "</table>\n",
       "<p>483 rows × 2 columns</p>\n",
       "</div>"
      ],
      "text/plain": [
       "            Open  Predictions\n",
       "1933  332.390015   335.445618\n",
       "1934  333.750000   335.767242\n",
       "1935  325.440002   333.944489\n",
       "1936  332.859985   330.407074\n",
       "1937  324.100006   326.038605\n",
       "...          ...          ...\n",
       "2411  568.489990   541.077454\n",
       "2412  575.690002   548.015442\n",
       "2413  632.419983   553.837524\n",
       "2414  640.000000   561.934143\n",
       "2415  673.690002   574.576416\n",
       "\n",
       "[483 rows x 2 columns]"
      ]
     },
     "execution_count": 125,
     "metadata": {},
     "output_type": "execute_result"
    }
   ],
   "source": [
    "# showing the valid and predicted prices\n",
    "valid[['Open', 'Predictions']]"
   ]
  }
 ],
 "metadata": {
  "kernelspec": {
   "display_name": "Python 3 (ipykernel)",
   "language": "python",
   "name": "python3"
  },
  "language_info": {
   "codemirror_mode": {
    "name": "ipython",
    "version": 3
   },
   "file_extension": ".py",
   "mimetype": "text/x-python",
   "name": "python",
   "nbconvert_exporter": "python",
   "pygments_lexer": "ipython3",
   "version": "3.10.5"
  }
 },
 "nbformat": 4,
 "nbformat_minor": 5
}
